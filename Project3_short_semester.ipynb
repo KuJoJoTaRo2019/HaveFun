{
  "nbformat": 4,
  "nbformat_minor": 0,
  "metadata": {
    "colab": {
      "name": "Project3_short_semester.ipynb",
      "provenance": [],
      "collapsed_sections": [],
      "include_colab_link": true
    },
    "kernelspec": {
      "display_name": "Python 3",
      "language": "python",
      "name": "python3"
    },
    "language_info": {
      "codemirror_mode": {
        "name": "ipython",
        "version": 3
      },
      "file_extension": ".py",
      "mimetype": "text/x-python",
      "name": "python",
      "nbconvert_exporter": "python",
      "pygments_lexer": "ipython3",
      "version": "3.7.6"
    }
  },
  "cells": [
    {
      "cell_type": "markdown",
      "metadata": {
        "id": "view-in-github",
        "colab_type": "text"
      },
      "source": [
        "<a href=\"https://colab.research.google.com/github/KuJoJoTaRo2019/HaveFun/blob/master/Project3_short_semester.ipynb\" target=\"_parent\"><img src=\"https://colab.research.google.com/assets/colab-badge.svg\" alt=\"Open In Colab\"/></a>"
      ]
    },
    {
      "cell_type": "markdown",
      "metadata": {
        "id": "JN-BNQSQBrGM",
        "colab_type": "text"
      },
      "source": [
        "**Project3 is Social Network Analysis.**\n",
        "\n",
        "I haven't understand this stock of theory. Sorry.\n",
        "\n",
        "I will take some time to review.\n",
        "\n",
        "---"
      ]
    },
    {
      "cell_type": "code",
      "metadata": {
        "colab_type": "code",
        "id": "VjIOlm40YHXe",
        "colab": {
          "base_uri": "https://localhost:8080/",
          "height": 134
        },
        "outputId": "82c0655d-c859-4531-8232-da49bd05f130"
      },
      "source": [
        "pip install -U python-igraph"
      ],
      "execution_count": null,
      "outputs": [
        {
          "output_type": "stream",
          "text": [
            "Collecting python-igraph\n",
            "  Downloading python_igraph-0.8.2-cp37-cp37m-win_amd64.whl (1.3 MB)\n",
            "Collecting texttable>=1.6.2\n",
            "  Downloading texttable-1.6.3-py2.py3-none-any.whl (10 kB)\n",
            "Installing collected packages: texttable, python-igraph\n",
            "Successfully installed python-igraph-0.8.2 texttable-1.6.3\n",
            "Note: you may need to restart the kernel to use updated packages.\n"
          ],
          "name": "stdout"
        }
      ]
    },
    {
      "cell_type": "code",
      "metadata": {
        "colab_type": "code",
        "id": "kzLf6XJTso8b",
        "colab": {
          "base_uri": "https://localhost:8080/",
          "height": 958
        },
        "outputId": "6c1069af-06f7-448b-c663-29c572fc72a4"
      },
      "source": [
        "pip install py2neo"
      ],
      "execution_count": null,
      "outputs": [
        {
          "output_type": "stream",
          "text": [
            "Collecting py2neo\n",
            "  Downloading py2neo-2020.0.0-py2.py3-none-any.whl (180 kB)\n",
            "Collecting six>=1.15.0\n",
            "  Downloading six-1.15.0-py2.py3-none-any.whl (10 kB)\n",
            "Collecting monotonic\n",
            "  Downloading monotonic-1.5-py2.py3-none-any.whl (5.3 kB)\n",
            "Collecting pansi>=2020.7.3\n",
            "  Downloading pansi-2020.7.3-py2.py3-none-any.whl (10 kB)\n",
            "Collecting prompt-toolkit~=2.0.7\n",
            "  Downloading prompt_toolkit-2.0.10-py3-none-any.whl (340 kB)\n",
            "Requirement already satisfied: certifi in d:\\cp\\anaconda\\lib\\site-packages (from py2neo) (2019.11.28)\n",
            "Requirement already satisfied: cryptography in d:\\cp\\anaconda\\lib\\site-packages (from py2neo) (2.8)\n",
            "Requirement already satisfied: pygments>=2.0.0 in d:\\cp\\anaconda\\lib\\site-packages (from py2neo) (2.5.2)\n",
            "Requirement already satisfied: pytz in d:\\cp\\anaconda\\lib\\site-packages (from py2neo) (2019.3)\n",
            "Collecting docker\n",
            "  Downloading docker-4.3.1-py2.py3-none-any.whl (145 kB)\n",
            "Collecting neotime~=1.7.4\n",
            "  Downloading neotime-1.7.4.tar.gz (17 kB)\n",
            "Collecting english\n",
            "  Downloading english-2020.7.0-py2.py3-none-any.whl (8.1 kB)\n",
            "Requirement already satisfied: packaging in d:\\cp\\anaconda\\lib\\site-packages (from py2neo) (20.1)\n",
            "Requirement already satisfied: urllib3 in d:\\cp\\anaconda\\lib\\site-packages (from py2neo) (1.25.8)\n",
            "Requirement already satisfied: wcwidth in d:\\cp\\anaconda\\lib\\site-packages (from prompt-toolkit~=2.0.7->py2neo) (0.1.8)\n",
            "Requirement already satisfied: cffi!=1.11.3,>=1.8 in d:\\cp\\anaconda\\lib\\site-packages (from cryptography->py2neo) (1.14.0)\n",
            "Requirement already satisfied: requests!=2.18.0,>=2.14.2 in d:\\cp\\anaconda\\lib\\site-packages (from docker->py2neo) (2.22.0)\n",
            "Requirement already satisfied: pywin32==227; sys_platform == \"win32\" in d:\\cp\\anaconda\\lib\\site-packages (from docker->py2neo) (227)\n",
            "Collecting websocket-client>=0.32.0\n",
            "  Downloading websocket_client-0.57.0-py2.py3-none-any.whl (200 kB)\n",
            "Requirement already satisfied: pyparsing>=2.0.2 in d:\\cp\\anaconda\\lib\\site-packages (from packaging->py2neo) (2.4.6)\n",
            "Requirement already satisfied: pycparser in d:\\cp\\anaconda\\lib\\site-packages (from cffi!=1.11.3,>=1.8->cryptography->py2neo) (2.19)\n",
            "Requirement already satisfied: chardet<3.1.0,>=3.0.2 in d:\\cp\\anaconda\\lib\\site-packages (from requests!=2.18.0,>=2.14.2->docker->py2neo) (3.0.4)\n",
            "Requirement already satisfied: idna<2.9,>=2.5 in d:\\cp\\anaconda\\lib\\site-packages (from requests!=2.18.0,>=2.14.2->docker->py2neo) (2.8)\n",
            "Building wheels for collected packages: neotime\n",
            "  Building wheel for neotime (setup.py): started\n",
            "  Building wheel for neotime (setup.py): finished with status 'done'\n",
            "  Created wheel for neotime: filename=neotime-1.7.4-py3-none-any.whl size=20546 sha256=78a11735f545b06063c9610ee2a3502b3b07bde533b42918a0ac6ee933ca3603\n",
            "  Stored in directory: c:\\users\\dell\\appdata\\local\\pip\\cache\\wheels\\1b\\53\\64\\de72baae858a94a3ed2c6b1117edf988b2b8d57b798097e5b3\n",
            "Successfully built neotime\n",
            "Installing collected packages: six, monotonic, pansi, prompt-toolkit, websocket-client, docker, neotime, english, py2neo\n",
            "  Attempting uninstall: six\n",
            "    Found existing installation: six 1.14.0\n",
            "    Uninstalling six-1.14.0:\n",
            "      Successfully uninstalled six-1.14.0\n",
            "  Attempting uninstall: prompt-toolkit\n",
            "    Found existing installation: prompt-toolkit 3.0.3\n",
            "    Uninstalling prompt-toolkit-3.0.3:\n",
            "      Successfully uninstalled prompt-toolkit-3.0.3\n",
            "Successfully installed docker-4.3.1 english-2020.7.0 monotonic-1.5 neotime-1.7.4 pansi-2020.7.3 prompt-toolkit-2.0.10 py2neo-2020.0.0 six-1.15.0 websocket-client-0.57.0\n",
            "Note: you may need to restart the kernel to use updated packages.\n"
          ],
          "name": "stdout"
        },
        {
          "output_type": "stream",
          "text": [
            "ERROR: pytest-astropy 0.8.0 requires pytest-cov>=2.0, which is not installed.\n",
            "ERROR: pytest-astropy 0.8.0 requires pytest-filter-subpackage>=0.1, which is not installed.\n",
            "ERROR: astroid 2.3.3 requires typed-ast<1.5,>=1.4.0; implementation_name == \"cpython\" and python_version < \"3.8\", which is not installed.\n"
          ],
          "name": "stderr"
        }
      ]
    },
    {
      "cell_type": "code",
      "metadata": {
        "colab_type": "code",
        "id": "-miTp8yBYpdY",
        "colab": {
          "base_uri": "https://localhost:8080/",
          "height": 67
        },
        "outputId": "683c9ed9-9438-470a-c6f4-570a49f4152d"
      },
      "source": [
        "from igraph import *\n",
        "g = Graph([(0,1),(0,2),(2,3),(3,4),(4,2),(2,5),(5,0),(6,3),(5,6)]) # 生成图\n",
        "print(type(g)) # 图的类型\n",
        "summary(g) # 图的节点数和边数\n",
        "print(g.degree()) # 各节点的度数"
      ],
      "execution_count": null,
      "outputs": [
        {
          "output_type": "stream",
          "text": [
            "<class 'igraph.Graph'>\n",
            "IGRAPH U--- 7 9 -- \n",
            "[3, 1, 4, 3, 2, 3, 2]\n"
          ],
          "name": "stdout"
        }
      ]
    },
    {
      "cell_type": "code",
      "metadata": {
        "colab_type": "code",
        "id": "_AzmjscNsLuA",
        "colab": {}
      },
      "source": [
        "from py2neo import Graph\n",
        "#连接neo4j数据库，输入地址、用户名、密码\n",
        "graph = Graph(\"http://localhost:7474\", username=\"neo4j\", password ='wangdejumen')"
      ],
      "execution_count": null,
      "outputs": []
    },
    {
      "cell_type": "code",
      "metadata": {
        "id": "n_t2mX2XBmqF",
        "colab_type": "code",
        "colab": {},
        "outputId": "ac769d57-6781-4d25-ba1b-d36901f40c43"
      },
      "source": [
        "print(graph)"
      ],
      "execution_count": null,
      "outputs": [
        {
          "output_type": "stream",
          "text": [
            "Graph('http://neo4j@localhost:7474', name='neo4j')\n"
          ],
          "name": "stdout"
        }
      ]
    },
    {
      "cell_type": "code",
      "metadata": {
        "id": "j6NL2JBcBmqN",
        "colab_type": "code",
        "colab": {},
        "outputId": "60abe627-542c-44f3-aeff-9b056ea0bdee"
      },
      "source": [
        "import csv\n",
        "from igraph import Graph as IGraph\n",
        "\n",
        "def read_data(filename):\n",
        "    edges=[]\n",
        "    firstline=True\n",
        "    with open(filename,'r',encoding='utf-8') as f:\n",
        "        for row in csv.reader(f.read().splitlines()):\n",
        "            if firstline == True:\n",
        "                firstline = False\n",
        "                continue\n",
        "            u,v,weight=[i for i in row]\n",
        "            edges.append((u,v,int(weight)))\n",
        "    return edges\n",
        "\n",
        "def get_igraph(edges):\n",
        "    g =IGraph.TupleList(edges=edges, directed=False, vertex_name_attr='name', edge_attrs=None, weights=True)\n",
        "    return g\n",
        "\n",
        "def get_graphData(graph):\n",
        "    names = graph.vs['name']\n",
        "    weights = graph.es['weight']\n",
        "    print('人物名字：',names[:10])\n",
        "    print('关系权重：',weights[:10])\n",
        "    return names,weights\n",
        "\n",
        "#度中心性\n",
        "def Degree_Centrality(g):\n",
        "    p=list(zip(g.vs['name'],g.vs.degree()))\n",
        "    p_sort=sorted(p,key=lambda p:p[1],reverse=True)\n",
        "    return p_sort\n",
        "\n",
        "#加权度中心性\n",
        "def Weight_Degree_Centrality(g,edges):\n",
        "    WDC=[]\n",
        "    for p in g.vs:\n",
        "        neighbors = [x['name'] for x in p.neighbors()]\n",
        "        weightdDegree = sum([w for a,b,w in edges for c in neighbors if (a==p['name'] and b==c) or (b==p['name'] and a==c)])\n",
        "        WDC.append([p['name'],weightdDegree])\n",
        "    WDC_sort = sorted(WDC,key=lambda p:p[1],reverse=True)\n",
        "    return WDC_sort\n",
        "\n",
        "#邻居平均度\n",
        "def Neighbor_Average_Degree(g):\n",
        "    p=list(zip(g.vs['name'],g.knn()[0]))\n",
        "    p_sort=sorted(p,key=lambda p:p[1],reverse=True)\n",
        "    return p_sort\n",
        "\n",
        "#介数中心性\n",
        "def Betweenness_Centrality(g):\n",
        "    p=list(zip(g.vs['name'],g.betweenness()))\n",
        "    p_sort=sorted(p,key=lambda p:p[1],reverse=True)\n",
        "    return p_sort\n",
        "\n",
        "#紧度中心性\n",
        "def Closeness_centrality(g):\n",
        "    p=list(zip(g.vs['name'],g.closeness()))\n",
        "    p_sort=sorted(p,key=lambda p:p[1],reverse=True)\n",
        "    return p_sort\n",
        "\n",
        "#PageRank算法\n",
        "def PageRank(g):\n",
        "    p=list(zip(g.vs['name'],g.pagerank()))\n",
        "    p_sort=sorted(p,key=lambda p:p[1],reverse=True)\n",
        "    return p_sort\n",
        "\n",
        "def Community_Detection(g):\n",
        "    clusters = IGraph.community_walktrap(g,weights='weight').as_clustering()\n",
        "    n=len(clusters.sizes())\n",
        "    for i in range(n):\n",
        "        print('Community',i,':',[g.vs['name'][j] for j in clusters[i]])\n",
        "\n",
        "if __name__=='__main__':\n",
        "    edges=read_data('./stormofswords.csv')\n",
        "    g=get_igraph(edges)\n",
        "    names,weights = get_graphData(g)\n",
        "    print('------------------------------------------------------')\n",
        "    print('角色数：',g.vcount())\n",
        "    print('网络直径：',g.diameter())\n",
        "    print('直径上的角色：',[names[x] for x in g.get_diameter()])\n",
        "    print('------------------------------------------------------')\n",
        "    print('其中一条最短路径：',[names[x] for x in g.get_shortest_paths('Catelyn','Drogo')[0]])\n",
        "    print('\\r 所有最短路径：')\n",
        "    paths=g.get_all_shortest_paths('Catelyn','Drogo')\n",
        "    for p in paths:\n",
        "        print([names[x] for x in p])\n",
        "    print('------------------------------------------------------')\n",
        "    #中心线度量\n",
        "    print('度中心性：',Degree_Centrality(g)[:10])\n",
        "    print('加权度中心性：',Weight_Degree_Centrality(g,edges)[:10])\n",
        "    print('邻居平均度：',Neighbor_Average_Degree(g)[:10])\n",
        "    print('介数中心性：',Betweenness_Centrality(g)[:10])\n",
        "    print('紧度中心性：',Closeness_centrality(g)[:10])\n",
        "    print('PageRank算法：',PageRank(g)[:10])\n",
        "    print('------------------------------------------------------')\n",
        "    print('社区划分结果：')\n",
        "    Community_Detection(g)"
      ],
      "execution_count": null,
      "outputs": [
        {
          "output_type": "stream",
          "text": [
            "人物名字： ['Aemon', 'Grenn', 'Samwell', 'Aerys', 'Jaime', 'Robert', 'Tyrion', 'Tywin', 'Alliser', 'Mance']\n",
            "关系权重： [5, 31, 18, 6, 5, 8, 5, 5, 11, 23]\n",
            "------------------------------------------------------\n",
            "角色数： 107\n",
            "网络直径： 6\n",
            "直径上的角色： ['Amory', 'Oberyn', 'Tyrion', 'Jaime', 'Barristan', 'Belwas', 'Illyrio']\n",
            "------------------------------------------------------\n",
            "其中一条最短路径： ['Catelyn', 'Jaime', 'Robert', 'Daenerys', 'Drogo']\n",
            "\r 所有最短路径：\n",
            "['Catelyn', 'Jaime', 'Barristan', 'Jorah', 'Drogo']\n",
            "['Catelyn', 'Eddard', 'Robert', 'Daenerys', 'Drogo']\n",
            "['Catelyn', 'Stannis', 'Robert', 'Daenerys', 'Drogo']\n",
            "['Catelyn', 'Sansa', 'Robert', 'Daenerys', 'Drogo']\n",
            "['Catelyn', 'Cersei', 'Robert', 'Daenerys', 'Drogo']\n",
            "['Catelyn', 'Tyrion', 'Robert', 'Daenerys', 'Drogo']\n",
            "['Catelyn', 'Jaime', 'Robert', 'Daenerys', 'Drogo']\n",
            "['Catelyn', 'Jaime', 'Barristan', 'Daenerys', 'Drogo']\n",
            "['Catelyn', 'Tyrion', 'Viserys', 'Daenerys', 'Drogo']\n",
            "------------------------------------------------------\n",
            "度中心性： [('Tyrion', 36), ('Jon', 26), ('Sansa', 26), ('Robb', 25), ('Jaime', 24), ('Tywin', 22), ('Cersei', 20), ('Arya', 19), ('Robert', 18), ('Joffrey', 18)]\n",
            "加权度中心性： [['Tyrion', 551], ['Jon', 442], ['Sansa', 383], ['Jaime', 372], ['Bran', 344], ['Robb', 342], ['Samwell', 282], ['Arya', 269], ['Joffrey', 255], ['Daenerys', 232]]\n",
            "邻居平均度： [('Doran', 36.0), ('Orell', 26.0), ('Aerys', 25.0), ('Ramsay', 25.0), ('Qyburn', 24.0), ('Walton', 24.0), ('Balon', 21.666666666666668), ('Mace', 21.666666666666668), ('Jeyne', 21.5), ('Ellaria', 21.5)]\n",
            "介数中心性： [('Jon', 1279.7533534055322), ('Robert', 1165.6025171231627), ('Tyrion', 1101.3849724234346), ('Daenerys', 874.8372110508582), ('Robb', 706.5572832464788), ('Sansa', 705.1985623519139), ('Stannis', 571.5247305125715), ('Jaime', 556.1852522889822), ('Arya', 443.01358430043337), ('Tywin', 364.7212195528084)]\n",
            "紧度中心性： [('Tyrion', 0.5120772946859904), ('Sansa', 0.5096153846153846), ('Robert', 0.5), ('Robb', 0.48847926267281105), ('Arya', 0.48623853211009177), ('Jaime', 0.4796380090497738), ('Jon', 0.4796380090497738), ('Stannis', 0.4796380090497738), ('Tywin', 0.4690265486725664), ('Eddard', 0.4608695652173913)]\n",
            "PageRank算法： [('Tyrion', 0.04288498199996331), ('Jon', 0.03582869669163556), ('Robb', 0.030171146655947646), ('Sansa', 0.030009716660108567), ('Daenerys', 0.02881425425830271), ('Jaime', 0.028727587587471203), ('Tywin', 0.025700162626425417), ('Robert', 0.022292016521362864), ('Cersei', 0.022287327589773493), ('Arya', 0.022050209663844467)]\n",
            "------------------------------------------------------\n",
            "社区划分结果：\n",
            "Community 0 : ['Aemon', 'Grenn', 'Samwell', 'Alliser', 'Mance', 'Jon', 'Craster', 'Karl', 'Eddison', 'Gilly', 'Janos', 'Bowen', 'Dalla', 'Orell', 'Qhorin', 'Rattleshirt', 'Styr', 'Val', 'Ygritte']\n",
            "Community 1 : ['Aerys', 'Jaime', 'Robert', 'Tyrion', 'Tywin', 'Amory', 'Oberyn', 'Cersei', 'Gregor', 'Joffrey', 'Balon', 'Loras', 'Brienne', 'Bronn', 'Podrick', 'Lysa', 'Petyr', 'Sansa', 'Elia', 'Ilyn', 'Meryn', 'Pycelle', 'Shae', 'Varys', 'Qyburn', 'Renly', 'Tommen', 'Kevan', 'Margaery', 'Myrcella', 'Jon Arryn', 'Olenna', 'Marillion', 'Robert Arryn', 'Ellaria', 'Mace', 'Chataya', 'Doran', 'Walton']\n",
            "Community 2 : ['Arya', 'Anguy', 'Beric', 'Gendry', 'Sandor', 'Thoros', 'Eddard']\n",
            "Community 3 : ['Bran', 'Rickon', 'Hodor', 'Jojen', 'Luwin', 'Meera', 'Nan', 'Theon']\n",
            "Community 4 : ['Brynden', 'Roose', 'Lothar', 'Walder', 'Catelyn', 'Edmure', 'Hoster', 'Jeyne', 'Robb', 'Roslin', 'Rickard', 'Ramsay']\n",
            "Community 5 : ['Belwas', 'Barristan', 'Illyrio', 'Daario', 'Drogo', 'Irri', 'Daenerys', 'Aegon', 'Jorah', 'Kraznys', 'Missandei', 'Rakharo', 'Rhaegar', 'Viserys', 'Worm']\n",
            "Community 6 : ['Stannis', 'Davos', 'Cressen', 'Salladhor', 'Melisandre', 'Shireen']\n",
            "Community 7 : ['Lancel']\n"
          ],
          "name": "stdout"
        }
      ]
    }
  ]
}